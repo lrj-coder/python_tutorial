{
 "nbformat": 4,
 "nbformat_minor": 2,
 "metadata": {
  "language_info": {
   "name": "python",
   "codemirror_mode": {
    "name": "ipython",
    "version": 3
   },
   "version": "3.7.6-final"
  },
  "orig_nbformat": 2,
  "file_extension": ".py",
  "mimetype": "text/x-python",
  "name": "python",
  "npconvert_exporter": "python",
  "pygments_lexer": "ipython3",
  "version": 3,
  "kernelspec": {
   "name": "python3",
   "display_name": "Python 3"
  }
 },
 "cells": [
  {
   "cell_type": "code",
   "execution_count": 3,
   "metadata": {},
   "outputs": [
    {
     "output_type": "stream",
     "name": "stdout",
     "text": "police:110\n"
    }
   ],
   "source": [
    "num = [110,'120','119']\n",
    "institude = [\"police\",'hostpial','fireman']\n",
    "print(\"{}:{}\".format(institude[0],num[0]))"
   ]
  },
  {
   "cell_type": "code",
   "execution_count": 15,
   "metadata": {},
   "outputs": [
    {
     "output_type": "stream",
     "name": "stdout",
     "text": "two\nliguozhong\n1720313118\n"
    },
    {
     "output_type": "execute_result",
     "data": {
      "text/plain": "4"
     },
     "metadata": {},
     "execution_count": 15
    }
   ],
   "source": [
    "father = {\"name\":\"liguozhong\",\"job\":\"famer\",\"phone_num\":\"13855089513\"}\n",
    "sister = {\"name\":\"lirongyuan\",\"job\":\"nurse\",\"phone_num\":\"1720313118\"}\n",
    "father[\"list\"] = \"two\"\n",
    "print(father[\"list\"])\n",
    "print(father[\"name\"])\n",
    "print(sister[\"phone_num\"])\n",
    "len(father)\n",
    ""
   ]
  },
  {
   "cell_type": "code",
   "execution_count": null,
   "metadata": {},
   "outputs": [],
   "source": []
  }
 ]
}