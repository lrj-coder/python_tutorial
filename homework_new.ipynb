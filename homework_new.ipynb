{
 "nbformat": 4,
 "nbformat_minor": 2,
 "metadata": {
  "language_info": {
   "name": "python",
   "codemirror_mode": {
    "name": "ipython",
    "version": 3
   },
   "version": "3.7.6-final"
  },
  "orig_nbformat": 2,
  "file_extension": ".py",
  "mimetype": "text/x-python",
  "name": "python",
  "npconvert_exporter": "python",
  "pygments_lexer": "ipython3",
  "version": 3,
  "kernelspec": {
   "name": "python3",
   "display_name": "Python 3"
  }
 },
 "cells": [
  {
   "cell_type": "code",
   "execution_count": 19,
   "metadata": {},
   "outputs": [
    {
     "output_type": "stream",
     "name": "stdout",
     "text": "40.5555666摄氏度等于105.00001988华摄氏度\n0摄氏度等于32.0华摄氏度\n"
    }
   ],
   "source": [
    "def temp_c_to_temp_f(temp_c):#摄氏温度转换为华摄氏度函数\n",
    "    temp_f = temp_c*9/5 + 32\n",
    "    return(str(temp_c)+'摄氏度等于'+str(temp_f)+'华摄氏度')\n",
    "\n",
    "\n",
    "\n",
    "print (temp_c_to_temp_f(40.5555666))\n",
    "print (temp_c_to_temp_f(0))\n",
    " \n",
    ""
   ]
  },
  {
   "cell_type": "code",
   "execution_count": 10,
   "metadata": {},
   "outputs": [
    {
     "output_type": "stream",
     "name": "stdout",
     "text": "True\nTrue\nFalse\n"
    }
   ],
   "source": [
    "def check_prime(num):#判断一个数是否为素数\n",
    "    cyc_factor = int(num/2+1)\n",
    "    # 质数大于 1\n",
    "    if num < 2:\n",
    "        return False    \n",
    "        \n",
    "    for i in range(2, cyc_factor):\n",
    "        if (num % i) == 0:\n",
    "            return False\n",
    "               \n",
    "    return True        \n",
    "\n",
    "\n",
    "print(check_prime(2))\n",
    "print(check_prime(5))\n",
    "print(check_prime(6))\n",
    ""
   ]
  },
  {
   "cell_type": "code",
   "execution_count": 11,
   "metadata": {},
   "outputs": [
    {
     "output_type": "stream",
     "name": "stdout",
     "text": "9\n15\n"
    }
   ],
   "source": [
    "def Sum_Of_Each_Digit(num):\n",
    "    result = 0\n",
    "    for i in range(len(num)):\n",
    "        if(num[i]!='.'):      \n",
    "            result = int(num[i]) + result\n",
    "    return result\n",
    "\n",
    "\n",
    "print(Sum_Of_Each_Digit(str(12321)))\n",
    "print(Sum_Of_Each_Digit(str(123.45)))\n",
    ""
   ]
  },
  {
   "cell_type": "code",
   "execution_count": 12,
   "metadata": {},
   "outputs": [
    {
     "output_type": "stream",
     "name": "stdout",
     "text": "[2, 1, 3, 4, 5, 'hello']\n"
    }
   ],
   "source": [
    "def Remove_dup(one_list):\n",
    "\n",
    "    temp_list=[]    \n",
    "    for one in one_list:        \n",
    "        if one not in temp_list:            \n",
    "            temp_list.append(one)    \n",
    "    return temp_list\n",
    "\n",
    "\n",
    "one_list = [2,1,2,2,3,4,5,5,2.0,2.0,\"hello\",\"hello\"]\n",
    "print(Remove_dup(one_list))\n",
    "   "
   ]
  },
  {
   "cell_type": "code",
   "execution_count": null,
   "metadata": {},
   "outputs": [],
   "source": []
  }
 ]
}