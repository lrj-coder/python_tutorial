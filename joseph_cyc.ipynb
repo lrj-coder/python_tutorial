{
 "nbformat": 4,
 "nbformat_minor": 2,
 "metadata": {
  "language_info": {
   "name": "python",
   "codemirror_mode": {
    "name": "ipython",
    "version": 3
   },
   "version": "3.7.6-final"
  },
  "orig_nbformat": 2,
  "file_extension": ".py",
  "mimetype": "text/x-python",
  "name": "python",
  "npconvert_exporter": "python",
  "pygments_lexer": "ipython3",
  "version": 3,
  "kernelspec": {
   "name": "python3",
   "display_name": "Python 3"
  }
 },
 "cells": [
  {
   "cell_type": "code",
   "execution_count": 71,
   "metadata": {},
   "outputs": [
    {
     "output_type": "stream",
     "name": "stdout",
     "text": "[4, 8, 2, 7, 3, 10, 9, 1, 6, 5]\n"
    }
   ],
   "source": [
    "paixu = []\n",
    "result = []\n",
    "new = []\n",
    "for x in range(1,11):\n",
    "    \n",
    "    paixu.append(x)\n",
    "\n",
    "for i in range(8):\n",
    "        \n",
    "    if(len(paixu)>=4):\n",
    "        result.append(paixu[3])\n",
    "        paixu.pop(3)\n",
    "        for x in range(3,len(paixu)):\n",
    "            new.append(paixu[x])\n",
    "        \n",
    "        for x in range(0,3):\n",
    "            new.append(paixu[x])\n",
    "    paixu = new\n",
    "    new = []\n",
    "    if(len(paixu)==3):\n",
    "        result.append(paixu[0])\n",
    "        result.append(paixu[2])\n",
    "        result.append(paixu[1])       \n",
    "print(result)\n",
    " \n",
    "\n",
    "\n"
   ]
  },
  {
   "cell_type": "code",
   "execution_count": 103,
   "metadata": {},
   "outputs": [
    {
     "output_type": "stream",
     "name": "stdout",
     "text": "[4, 8, 2, 7, 3, 10, 9, 1, 6, 5]\n"
    }
   ],
   "source": [
    "def joseph_cyc(num,step):\n",
    "    source_list = []\n",
    "    result = []\n",
    "    mid_var = []\n",
    "    for x in range(1,num+1):\n",
    "        \n",
    "        source_list.append(x)\n",
    "\n",
    "    for i in range(8):\n",
    "            \n",
    "        if(len(source_list)>=step):\n",
    "            result.append(source_list[step-1])\n",
    "            source_list.pop(step-1)\n",
    "            for x in range(step-1,len(source_list)):\n",
    "                mid_var.append(source_list[x])\n",
    "            \n",
    "            for x in range(0,step-1):\n",
    "                mid_var.append(source_list[x])\n",
    "        source_list = mid_var\n",
    "        mid_var = []\n",
    "        if(len(source_list)==step-1):\n",
    "            result.append(source_list[0])\n",
    "            result.append(source_list[2])\n",
    "            result.append(source_list[1])       \n",
    "    return result\n",
    "\n",
    "print(joseph_cyc(10,4))\n",
    "    "
   ]
  },
  {
   "cell_type": "code",
   "execution_count": 155,
   "metadata": {},
   "outputs": [
    {
     "output_type": "stream",
     "name": "stdout",
     "text": "[4, 5, 6, 7, 8, 9, 10, 1, 2]\n[7, 8, 9, 10, 1, 2, 4, 5]\n[10, 1, 2, 4, 5, 7, 8]\n[4, 5, 7, 8, 10, 1]\n[8, 10, 1, 4, 5]\n[4, 5, 8, 10]\n[10, 4, 5]\n[10, 4]\n[4]\n[]\n[3, 6, 9, 2, 7, 1, 8, 5, 10, 4]\n[5, 6, 7, 8, 9, 10, 1, 2, 3]\n[9, 10, 1, 2, 3, 5, 6, 7]\n[3, 5, 6, 7, 9, 10, 1]\n[9, 10, 1, 3, 5, 6]\n[5, 6, 9, 10, 1]\n[1, 5, 6, 9]\n[1, 5, 6]\n[5, 6]\n[5]\n[]\n[4, 8, 2, 7, 3, 10, 9, 1, 6, 5]\n[6, 7, 8, 9, 10, 11, 12, 13, 14, 15, 1, 2, 3, 4]\n[11, 12, 13, 14, 15, 1, 2, 3, 4, 6, 7, 8, 9]\n[1, 2, 3, 4, 6, 7, 8, 9, 11, 12, 13, 14]\n[7, 8, 9, 11, 12, 13, 14, 1, 2, 3, 4]\n[13, 14, 1, 2, 3, 4, 7, 8, 9, 11]\n[4, 7, 8, 9, 11, 13, 14, 1, 2]\n[13, 14, 1, 2, 4, 7, 8, 9]\n[7, 8, 9, 13, 14, 1, 2]\n[1, 2, 7, 8, 9, 13]\n[13, 1, 2, 7, 8]\n[13, 1, 2, 7]\n[1, 2, 7]\n[1, 7]\n[7]\n[]\n[5, 10, 15, 6, 12, 3, 11, 4, 14, 9, 8, 13, 2, 1, 7]\n"
    }
   ],
   "source": [
    "def joseph_cyc(num,step):\n",
    "    source_list = []\n",
    "    result = []\n",
    "    mid_var = []\n",
    "    for x in range(0,num):\n",
    "        \n",
    "        source_list.append(x+1)\n",
    "\n",
    "    for i in range(0,num):\n",
    "            \n",
    "        if(len(source_list)>=step):\n",
    "            result.append(source_list[step-1])\n",
    "            source_list.pop(step-1)\n",
    "            for x in range(step-1,len(source_list)):\n",
    "                mid_var.append(source_list[x])\n",
    "            \n",
    "            for x in range(0,step-1):\n",
    "                mid_var.append(source_list[x])\n",
    "            source_list = mid_var\n",
    "            mid_var = []\n",
    "            print(source_list)\n",
    "        if(0<len(source_list) < step):\n",
    "\n",
    "\n",
    "            if(step%len(source_list) == 1):\n",
    "                result.append(source_list[0])\n",
    "                source_list.pop(0)\n",
    "              \n",
    "            elif(step%len(source_list) == 0):\n",
    "                result.append(source_list[len(source_list)-1])\n",
    "                source_list.pop(len(source_list)-1)\n",
    "              \n",
    "            else:\n",
    "\n",
    "\n",
    "                result.append(source_list[step%len(source_list)-1])\n",
    "                source_list.pop(step%len(source_list)-1)\n",
    "                for x in range(step%len(source_list)-1,len(source_list)):\n",
    "                    mid_var.append(source_list[x])\n",
    "                \n",
    "                for x in range(0,step%len(source_list)-1):\n",
    "                    mid_var.append(source_list[x])\n",
    "                source_list = mid_var\n",
    "                mid_var = []\n",
    "            print(source_list)\n",
    "       \n",
    "\n",
    "    return result\n",
    "\n",
    "\n",
    "\n",
    "print(joseph_cyc(10,3))\n",
    "print(joseph_cyc(10,4))\n",
    "print(joseph_cyc(15,5))\n",
    "\n",
    ""
   ]
  },
  {
   "cell_type": "code",
   "execution_count": null,
   "metadata": {},
   "outputs": [],
   "source": []
  }
 ]
}