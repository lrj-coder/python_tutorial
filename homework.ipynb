{
 "nbformat": 4,
 "nbformat_minor": 2,
 "metadata": {
  "language_info": {
   "name": "python",
   "codemirror_mode": {
    "name": "ipython",
    "version": 3
   },
   "version": "3.7.6-final"
  },
  "orig_nbformat": 2,
  "file_extension": ".py",
  "mimetype": "text/x-python",
  "name": "python",
  "npconvert_exporter": "python",
  "pygments_lexer": "ipython3",
  "version": 3,
  "kernelspec": {
   "name": "python3",
   "display_name": "Python 3"
  }
 },
 "cells": [
  {
   "cell_type": "code",
   "execution_count": 52,
   "metadata": {},
   "outputs": [
    {
     "output_type": "stream",
     "name": "stdout",
     "text": "40.5摄氏度等于104.9华摄氏度\n"
    }
   ],
   "source": [
    "def temp_c_change_temp_f(temp_c):#摄氏温度转换为华摄氏度函数\n",
    "    temp_f = temp_c*9/5 + 32\n",
    "    return(str(temp_c)+'摄氏度等于'+str(temp_f)+'华摄氏度')\n",
    "\n",
    "f = temp_c_change_temp_f(40.5)\n",
    "print(f)\n",
    " \n",
    ""
   ]
  },
  {
   "cell_type": "code",
   "execution_count": 51,
   "metadata": {},
   "outputs": [
    {
     "output_type": "stream",
     "name": "stdout",
     "text": "8 不是质数\n"
    }
   ],
   "source": [
    "def handlerNum(num):#判断一个数是否为素数\n",
    "    # 质数大于 1\n",
    "    if num > 1:\n",
    "        for i in range(2, num//2+1):\n",
    "            if (num % i) == 0:\n",
    "                print(num,\"不是质数\")\n",
    "                break\n",
    "        else:\n",
    "            print(num, \"是质数\")\n",
    "\n",
    "    # 如果输入的数字小于或等于 1，不是质数\n",
    "    else:\n",
    "        print(num, \"不是质数\")\n",
    "if __name__ == '__main__':\n",
    "\n",
    "        num = int(input(\"请输入一个数字: \"))\n",
    "        handlerNum(num)"
   ]
  },
  {
   "cell_type": "code",
   "execution_count": 82,
   "metadata": {},
   "outputs": [
    {
     "output_type": "stream",
     "name": "stdout",
     "text": "123.0\n6.0\n"
    }
   ],
   "source": [
    "#求数字中各位数之和\n",
    "input_num = float(input(\"请输入一个数字\"))\n",
    "while ( input_num*10% 10)!= 0:\n",
    "    input_num = input_num * 10\n",
    "print(input_num)\n",
    "input_num_remainder = input_num % 10\n",
    "final_result = 0\n",
    "while input_num_remainder != 0:\n",
    "    final_result = input_num_remainder+final_result\n",
    "    input_num = (input_num -input_num_remainder)/10\n",
    "    input_num_remainder = input_num % 10\n",
    "print(final_result)\n"
   ]
  },
  {
   "cell_type": "code",
   "execution_count": 37,
   "metadata": {},
   "outputs": [
    {
     "output_type": "stream",
     "name": "stdout",
     "text": "[4, 7, 23, 56, 9, 0, 12, 3, 34, 45, 5, 6]\n"
    }
   ],
   "source": [
    "one_list=[4,7,4,23,56,9,0,56,12,3,56,34,45,5,6,56]\n",
    "temp_list=[]    \n",
    "for one in one_list:        \n",
    "    if one not in temp_list:            \n",
    "        temp_list.append(one)    \n",
    "print(temp_list)\n",
    "\n",
    " \n",
    "   "
   ]
  },
  {
   "cell_type": "code",
   "execution_count": null,
   "metadata": {},
   "outputs": [],
   "source": []
  }
 ]
}